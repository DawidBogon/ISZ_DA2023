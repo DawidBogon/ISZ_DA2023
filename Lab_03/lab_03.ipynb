{
 "cells": [
  {
   "attachments": {},
   "cell_type": "markdown",
   "metadata": {},
   "source": [
    "# Lab 3 - Prior and Posterior predictive distributions\n",
    "\n",
    "Dawid Bogon"
   ]
  },
  {
   "attachments": {},
   "cell_type": "markdown",
   "metadata": {},
   "source": [
    "The goal of this excercise is to create a binomial model, use prior predictive distributions to select a proper prior and then using posterior predictive distributions.\n",
    "\n",
    "We will be considering a following case:\n",
    "\n",
    "Typical effects of administering certain vaccine result in an allergic reaction in 20% cases on average. This is what we know a priori\n",
    "\n",
    "We are testing a new vaccine, for which we performed a trial on 50 patients registering 7 allergic reactions. We want to verify what is the allergic reaction probability for new trial and what is the probability that it is lower than for normal vacine. We assume that each patient treatment is exchangeable."
   ]
  },
  {
   "cell_type": "code",
   "execution_count": 1,
   "metadata": {},
   "outputs": [],
   "source": [
    "from cmdstanpy import CmdStanModel\n",
    "import pandas as pd\n",
    "import arviz as az \n",
    "import numpy as np\n",
    "import matplotlib.pyplot as plt\n",
    "import scipy.stats as stats"
   ]
  },
  {
   "attachments": {},
   "cell_type": "markdown",
   "metadata": {},
   "source": [
    "## Modeling prior predictive distribution\n",
    "\n",
    "Because prior predictive distribution does not use data it can often be realized just using random number generators. \n",
    "\n",
    "1. Create a Stan model, which will consist of only ```generated quantites``` block.\n",
    "2. In this block define integer variable ```N``` for number of trials equal to 50, integer variable ```y``` for number of successes and real ```p``` for probability of allergic reaction. Remember to use necessary constraints.\n",
    "3. Assign a prior for  ```p``` (appropriate random number generator) that will represent our knowledge about typical cases. You can do it either analytically or by using simulations. \n",
    "4. Sample from binomial distribution, that will use ```N``` and sampled ```p``` to generate number of allergic reactions ```y```.\n",
    "5. Generate 1000 samples (pair of ```p``` an ```y```) by calling appropriate method in ```cmdstanpy```. Remeber to set ```fixed_param=True```.\n",
    "6. Compute ratio of allergic reactions for each sample and create a histogram.\n",
    "7. Verify if mean of the ratio is consistent with prior knowledge, otherwise modify prior parameters. Describe your reasoning in the report."
   ]
  },
  {
   "cell_type": "code",
   "execution_count": 2,
   "metadata": {},
   "outputs": [
    {
     "name": "stderr",
     "output_type": "stream",
     "text": [
      "INFO:cmdstanpy:found newer exe file, not recompiling\n",
      "INFO:cmdstanpy:CmdStan start processing\n"
     ]
    },
    {
     "data": {
      "application/json": {
       "ascii": false,
       "bar_format": "{desc} |{bar}| {elapsed} {postfix[0][value]}",
       "colour": null,
       "elapsed": 0.04003739356994629,
       "initial": 0,
       "n": 0,
       "ncols": null,
       "nrows": null,
       "postfix": [
        {
         "value": "Status"
        }
       ],
       "prefix": "chain 1",
       "rate": null,
       "total": 12,
       "unit": "it",
       "unit_divisor": 1000,
       "unit_scale": false
      },
      "application/vnd.jupyter.widget-view+json": {
       "model_id": "33d0ee2b923341d1859f6e2e59c95b49",
       "version_major": 2,
       "version_minor": 0
      },
      "text/plain": [
       "chain 1 |          | 00:00 Status"
      ]
     },
     "metadata": {},
     "output_type": "display_data"
    },
    {
     "name": "stdout",
     "output_type": "stream",
     "text": [
      "                                                                                "
     ]
    },
    {
     "name": "stderr",
     "output_type": "stream",
     "text": [
      "INFO:cmdstanpy:CmdStan done processing.\n"
     ]
    },
    {
     "name": "stdout",
     "output_type": "stream",
     "text": [
      "\n"
     ]
    },
    {
     "data": {
      "text/html": [
       "<div>\n",
       "<style scoped>\n",
       "    .dataframe tbody tr th:only-of-type {\n",
       "        vertical-align: middle;\n",
       "    }\n",
       "\n",
       "    .dataframe tbody tr th {\n",
       "        vertical-align: top;\n",
       "    }\n",
       "\n",
       "    .dataframe thead th {\n",
       "        text-align: right;\n",
       "    }\n",
       "</style>\n",
       "<table border=\"1\" class=\"dataframe\">\n",
       "  <thead>\n",
       "    <tr style=\"text-align: right;\">\n",
       "      <th></th>\n",
       "      <th>lp__</th>\n",
       "      <th>accept_stat__</th>\n",
       "      <th>N</th>\n",
       "      <th>y</th>\n",
       "      <th>p</th>\n",
       "    </tr>\n",
       "  </thead>\n",
       "  <tbody>\n",
       "    <tr>\n",
       "      <th>count</th>\n",
       "      <td>1000.0</td>\n",
       "      <td>1000.0</td>\n",
       "      <td>1000.0</td>\n",
       "      <td>1000.00000</td>\n",
       "      <td>1000.000000</td>\n",
       "    </tr>\n",
       "    <tr>\n",
       "      <th>mean</th>\n",
       "      <td>0.0</td>\n",
       "      <td>0.0</td>\n",
       "      <td>50.0</td>\n",
       "      <td>10.05000</td>\n",
       "      <td>0.199877</td>\n",
       "    </tr>\n",
       "    <tr>\n",
       "      <th>std</th>\n",
       "      <td>0.0</td>\n",
       "      <td>0.0</td>\n",
       "      <td>0.0</td>\n",
       "      <td>3.43967</td>\n",
       "      <td>0.040015</td>\n",
       "    </tr>\n",
       "    <tr>\n",
       "      <th>min</th>\n",
       "      <td>0.0</td>\n",
       "      <td>0.0</td>\n",
       "      <td>50.0</td>\n",
       "      <td>2.00000</td>\n",
       "      <td>0.055974</td>\n",
       "    </tr>\n",
       "    <tr>\n",
       "      <th>25%</th>\n",
       "      <td>0.0</td>\n",
       "      <td>0.0</td>\n",
       "      <td>50.0</td>\n",
       "      <td>8.00000</td>\n",
       "      <td>0.174169</td>\n",
       "    </tr>\n",
       "    <tr>\n",
       "      <th>50%</th>\n",
       "      <td>0.0</td>\n",
       "      <td>0.0</td>\n",
       "      <td>50.0</td>\n",
       "      <td>10.00000</td>\n",
       "      <td>0.201498</td>\n",
       "    </tr>\n",
       "    <tr>\n",
       "      <th>75%</th>\n",
       "      <td>0.0</td>\n",
       "      <td>0.0</td>\n",
       "      <td>50.0</td>\n",
       "      <td>12.00000</td>\n",
       "      <td>0.227251</td>\n",
       "    </tr>\n",
       "    <tr>\n",
       "      <th>max</th>\n",
       "      <td>0.0</td>\n",
       "      <td>0.0</td>\n",
       "      <td>50.0</td>\n",
       "      <td>22.00000</td>\n",
       "      <td>0.321217</td>\n",
       "    </tr>\n",
       "  </tbody>\n",
       "</table>\n",
       "</div>"
      ],
      "text/plain": [
       "         lp__  accept_stat__       N           y            p\n",
       "count  1000.0         1000.0  1000.0  1000.00000  1000.000000\n",
       "mean      0.0            0.0    50.0    10.05000     0.199877\n",
       "std       0.0            0.0     0.0     3.43967     0.040015\n",
       "min       0.0            0.0    50.0     2.00000     0.055974\n",
       "25%       0.0            0.0    50.0     8.00000     0.174169\n",
       "50%       0.0            0.0    50.0    10.00000     0.201498\n",
       "75%       0.0            0.0    50.0    12.00000     0.227251\n",
       "max       0.0            0.0    50.0    22.00000     0.321217"
      ]
     },
     "execution_count": 2,
     "metadata": {},
     "output_type": "execute_result"
    }
   ],
   "source": [
    "gen_quant = CmdStanModel(stan_file='code_1.stan')\n",
    "samples = gen_quant.sample(fixed_param=True,\n",
    "                           iter_sampling=1000,\n",
    "                           iter_warmup=0, \n",
    "                           chains = 1)\n",
    "df = samples.draws_pd()\n",
    "df.describe()"
   ]
  },
  {
   "cell_type": "code",
   "execution_count": 3,
   "metadata": {},
   "outputs": [
    {
     "data": {
      "image/png": "[encoded data removed]",
      "text/plain": [
       "<Figure size 504x504 with 1 Axes>"
      ]
     },
     "metadata": {
      "needs_background": "light"
     },
     "output_type": "display_data"
    },
    {
     "name": "stdout",
     "output_type": "stream",
     "text": [
      "Mean of ratio: 0.20100000000000004\n"
     ]
    }
   ],
   "source": [
    "plt.figure(figsize=(7, 7))\n",
    "plt.hist(df[\"y\"] ,density=True)\n",
    "plt.gca().set_xlabel(\"Probability of alergic reaction\")\n",
    "plt.show()\n",
    "\n",
    "df[\"y_prob\"] = df[\"y\"] / df[\"N\"]\n",
    "mean = df[\"y_prob\"].mean()\n",
    "print(f\"Mean of ratio: {mean}\")"
   ]
  },
  {
   "attachments": {},
   "cell_type": "markdown",
   "metadata": {},
   "source": [
    "## Modeling posterior and posterior predictive distribution\n",
    "\n",
    "1. Create a Stan model in which:\n",
    "   - ```N``` and ```y``` are appropriately defined in the ```data``` block.\n",
    "   - ```p``` is defined in the parameters block. \n",
    "   - binomial likelihood and prior (selected using prior predictive distribution) are defined in the model block.\n",
    "   - new integer variable ```y_pred``` in the generated quantities block. \n",
    "   - sample ```y_pred``` using values of parameter ```p``` and input variable ```N```\n",
    "2. Generate default number of samples from appropriate method in ```cmdstanpy```.\n",
    "3. Compute ratio of predicted allergic reactions for each sample and create a histogram.\n",
    "4. Compute the expected value and 94% density interval of the predicted ratio, compare it with expected value and 94% density interval of parameter ```p```. Use ```arviz``` package.\n",
    "5. Compute the probability that ratio is lower than the average probability from traditional vaccines (count the number of simulated ratios that are smaller)."
   ]
  },
  {
   "cell_type": "code",
   "execution_count": 4,
   "metadata": {},
   "outputs": [
    {
     "name": "stderr",
     "output_type": "stream",
     "text": [
      "INFO:cmdstanpy:found newer exe file, not recompiling\n",
      "INFO:cmdstanpy:CmdStan start processing\n"
     ]
    },
    {
     "data": {
      "application/json": {
       "ascii": false,
       "bar_format": "{desc} |{bar}| {elapsed} {postfix[0][value]}",
       "colour": null,
       "elapsed": 0.041608333587646484,
       "initial": 0,
       "n": 0,
       "ncols": null,
       "nrows": null,
       "postfix": [
        {
         "value": "Status"
        }
       ],
       "prefix": "chain 1",
       "rate": null,
       "total": 22,
       "unit": "it",
       "unit_divisor": 1000,
       "unit_scale": false
      },
      "application/vnd.jupyter.widget-view+json": {
       "model_id": "fa3dd6b0b9c14d91b93fe19ada1d944e",
       "version_major": 2,
       "version_minor": 0
      },
      "text/plain": [
       "chain 1 |          | 00:00 Status"
      ]
     },
     "metadata": {},
     "output_type": "display_data"
    },
    {
     "data": {
      "application/json": {
       "ascii": false,
       "bar_format": "{desc} |{bar}| {elapsed} {postfix[0][value]}",
       "colour": null,
       "elapsed": 0.11798572540283203,
       "initial": 0,
       "n": 0,
       "ncols": null,
       "nrows": null,
       "postfix": [
        {
         "value": "Status"
        }
       ],
       "prefix": "chain 2",
       "rate": null,
       "total": 22,
       "unit": "it",
       "unit_divisor": 1000,
       "unit_scale": false
      },
      "application/vnd.jupyter.widget-view+json": {
       "model_id": "5fad66315dba458c950536354ef8ed6c",
       "version_major": 2,
       "version_minor": 0
      },
      "text/plain": [
       "chain 2 |          | 00:00 Status"
      ]
     },
     "metadata": {},
     "output_type": "display_data"
    },
    {
     "data": {
      "application/json": {
       "ascii": false,
       "bar_format": "{desc} |{bar}| {elapsed} {postfix[0][value]}",
       "colour": null,
       "elapsed": 0.03941202163696289,
       "initial": 0,
       "n": 0,
       "ncols": null,
       "nrows": null,
       "postfix": [
        {
         "value": "Status"
        }
       ],
       "prefix": "chain 3",
       "rate": null,
       "total": 22,
       "unit": "it",
       "unit_divisor": 1000,
       "unit_scale": false
      },
      "application/vnd.jupyter.widget-view+json": {
       "model_id": "d607bc22b94d48859bb464d86f19f296",
       "version_major": 2,
       "version_minor": 0
      },
      "text/plain": [
       "chain 3 |          | 00:00 Status"
      ]
     },
     "metadata": {},
     "output_type": "display_data"
    },
    {
     "data": {
      "application/json": {
       "ascii": false,
       "bar_format": "{desc} |{bar}| {elapsed} {postfix[0][value]}",
       "colour": null,
       "elapsed": 0.043816328048706055,
       "initial": 0,
       "n": 0,
       "ncols": null,
       "nrows": null,
       "postfix": [
        {
         "value": "Status"
        }
       ],
       "prefix": "chain 4",
       "rate": null,
       "total": 22,
       "unit": "it",
       "unit_divisor": 1000,
       "unit_scale": false
      },
      "application/vnd.jupyter.widget-view+json": {
       "model_id": "3de1627c279345949f04d3bbfaf6f027",
       "version_major": 2,
       "version_minor": 0
      },
      "text/plain": [
       "chain 4 |          | 00:00 Status"
      ]
     },
     "metadata": {},
     "output_type": "display_data"
    },
    {
     "name": "stdout",
     "output_type": "stream",
     "text": [
      "                                                                                                                                                                                                                                                                                                                                "
     ]
    },
    {
     "name": "stderr",
     "output_type": "stream",
     "text": [
      "INFO:cmdstanpy:CmdStan done processing.\n"
     ]
    },
    {
     "name": "stdout",
     "output_type": "stream",
     "text": [
      "\n"
     ]
    },
    {
     "data": {
      "text/html": [
       "<div>\n",
       "<style scoped>\n",
       "    .dataframe tbody tr th:only-of-type {\n",
       "        vertical-align: middle;\n",
       "    }\n",
       "\n",
       "    .dataframe tbody tr th {\n",
       "        vertical-align: top;\n",
       "    }\n",
       "\n",
       "    .dataframe thead th {\n",
       "        text-align: right;\n",
       "    }\n",
       "</style>\n",
       "<table border=\"1\" class=\"dataframe\">\n",
       "  <thead>\n",
       "    <tr style=\"text-align: right;\">\n",
       "      <th></th>\n",
       "      <th>lp__</th>\n",
       "      <th>accept_stat__</th>\n",
       "      <th>stepsize__</th>\n",
       "      <th>treedepth__</th>\n",
       "      <th>n_leapfrog__</th>\n",
       "      <th>divergent__</th>\n",
       "      <th>energy__</th>\n",
       "      <th>p</th>\n",
       "      <th>y_pred</th>\n",
       "    </tr>\n",
       "  </thead>\n",
       "  <tbody>\n",
       "    <tr>\n",
       "      <th>count</th>\n",
       "      <td>4000.000000</td>\n",
       "      <td>4000.000000</td>\n",
       "      <td>4000.000000</td>\n",
       "      <td>4000.000000</td>\n",
       "      <td>4000.000000</td>\n",
       "      <td>4000.0</td>\n",
       "      <td>4000.000000</td>\n",
       "      <td>4000.000000</td>\n",
       "      <td>4000.000000</td>\n",
       "    </tr>\n",
       "    <tr>\n",
       "      <th>mean</th>\n",
       "      <td>-27.356469</td>\n",
       "      <td>0.938137</td>\n",
       "      <td>0.873547</td>\n",
       "      <td>1.445250</td>\n",
       "      <td>2.971500</td>\n",
       "      <td>0.0</td>\n",
       "      <td>27.864908</td>\n",
       "      <td>0.200237</td>\n",
       "      <td>10.034000</td>\n",
       "    </tr>\n",
       "    <tr>\n",
       "      <th>std</th>\n",
       "      <td>0.735364</td>\n",
       "      <td>0.092171</td>\n",
       "      <td>0.026568</td>\n",
       "      <td>0.529691</td>\n",
       "      <td>1.760387</td>\n",
       "      <td>0.0</td>\n",
       "      <td>1.015401</td>\n",
       "      <td>0.026323</td>\n",
       "      <td>3.134853</td>\n",
       "    </tr>\n",
       "    <tr>\n",
       "      <th>min</th>\n",
       "      <td>-34.777700</td>\n",
       "      <td>0.215734</td>\n",
       "      <td>0.836113</td>\n",
       "      <td>1.000000</td>\n",
       "      <td>1.000000</td>\n",
       "      <td>0.0</td>\n",
       "      <td>26.847900</td>\n",
       "      <td>0.102466</td>\n",
       "      <td>1.000000</td>\n",
       "    </tr>\n",
       "    <tr>\n",
       "      <th>25%</th>\n",
       "      <td>-27.530350</td>\n",
       "      <td>0.917317</td>\n",
       "      <td>0.861860</td>\n",
       "      <td>1.000000</td>\n",
       "      <td>1.000000</td>\n",
       "      <td>0.0</td>\n",
       "      <td>27.141775</td>\n",
       "      <td>0.182874</td>\n",
       "      <td>8.000000</td>\n",
       "    </tr>\n",
       "    <tr>\n",
       "      <th>50%</th>\n",
       "      <td>-27.073850</td>\n",
       "      <td>0.976085</td>\n",
       "      <td>0.873542</td>\n",
       "      <td>1.000000</td>\n",
       "      <td>3.000000</td>\n",
       "      <td>0.0</td>\n",
       "      <td>27.574700</td>\n",
       "      <td>0.199940</td>\n",
       "      <td>10.000000</td>\n",
       "    </tr>\n",
       "    <tr>\n",
       "      <th>75%</th>\n",
       "      <td>-26.896400</td>\n",
       "      <td>0.999201</td>\n",
       "      <td>0.885229</td>\n",
       "      <td>2.000000</td>\n",
       "      <td>3.000000</td>\n",
       "      <td>0.0</td>\n",
       "      <td>28.233975</td>\n",
       "      <td>0.218064</td>\n",
       "      <td>12.000000</td>\n",
       "    </tr>\n",
       "    <tr>\n",
       "      <th>max</th>\n",
       "      <td>-26.847800</td>\n",
       "      <td>1.000000</td>\n",
       "      <td>0.910992</td>\n",
       "      <td>3.000000</td>\n",
       "      <td>7.000000</td>\n",
       "      <td>0.0</td>\n",
       "      <td>34.918000</td>\n",
       "      <td>0.296448</td>\n",
       "      <td>22.000000</td>\n",
       "    </tr>\n",
       "  </tbody>\n",
       "</table>\n",
       "</div>"
      ],
      "text/plain": [
       "              lp__  accept_stat__   stepsize__  treedepth__  n_leapfrog__  \\\n",
       "count  4000.000000    4000.000000  4000.000000  4000.000000   4000.000000   \n",
       "mean    -27.356469       0.938137     0.873547     1.445250      2.971500   \n",
       "std       0.735364       0.092171     0.026568     0.529691      1.760387   \n",
       "min     -34.777700       0.215734     0.836113     1.000000      1.000000   \n",
       "25%     -27.530350       0.917317     0.861860     1.000000      1.000000   \n",
       "50%     -27.073850       0.976085     0.873542     1.000000      3.000000   \n",
       "75%     -26.896400       0.999201     0.885229     2.000000      3.000000   \n",
       "max     -26.847800       1.000000     0.910992     3.000000      7.000000   \n",
       "\n",
       "       divergent__     energy__            p       y_pred  \n",
       "count       4000.0  4000.000000  4000.000000  4000.000000  \n",
       "mean           0.0    27.864908     0.200237    10.034000  \n",
       "std            0.0     1.015401     0.026323     3.134853  \n",
       "min            0.0    26.847900     0.102466     1.000000  \n",
       "25%            0.0    27.141775     0.182874     8.000000  \n",
       "50%            0.0    27.574700     0.199940    10.000000  \n",
       "75%            0.0    28.233975     0.218064    12.000000  \n",
       "max            0.0    34.918000     0.296448    22.000000  "
      ]
     },
     "execution_count": 4,
     "metadata": {},
     "output_type": "execute_result"
    }
   ],
   "source": [
    "gen_quant2 = CmdStanModel(stan_file='code_2.stan')\n",
    "\n",
    "samples2 = gen_quant2.sample(data={'N':50,'y':10})\n",
    "\n",
    "df2 = samples2.draws_pd()\n",
    "df2.describe()"
   ]
  },
  {
   "cell_type": "code",
   "execution_count": 5,
   "metadata": {},
   "outputs": [
    {
     "data": {
      "image/png": "[encoded data removed]",
      "text/plain": [
       "<Figure size 504x504 with 1 Axes>"
      ]
     },
     "metadata": {
      "needs_background": "light"
     },
     "output_type": "display_data"
    },
    {
     "name": "stdout",
     "output_type": "stream",
     "text": [
      "Mean of ratio: 0.20068000000000003\n"
     ]
    }
   ],
   "source": [
    "plt.figure(figsize=(7, 7))\n",
    "plt.hist(df2[\"y_pred\"] ,density=True)\n",
    "plt.gca().set_xlabel(\"Probability of alergic reaction\")\n",
    "plt.show()\n",
    "\n",
    "df2[\"y_prob\"] = df2[\"y_pred\"] / 50\n",
    "mean = df2[\"y_prob\"].mean()\n",
    "print(f\"Mean of ratio: {mean}\")"
   ]
  },
  {
   "cell_type": "code",
   "execution_count": 6,
   "metadata": {},
   "outputs": [
    {
     "name": "stdout",
     "output_type": "stream",
     "text": [
      "Expected ratio = 0.201\n",
      "94% density interval of the predicted ratio =  [0.1  0.32]\n",
      "Expected value of parameter p = 0.200\n",
      "94% density interval of the parameter p =  [0.149979 0.24898 ]\n",
      "Probability that ratio is lower than the average probability = 0.447\n"
     ]
    }
   ],
   "source": [
    "y_pred_ratio = df2[\"y_prob\"].mean()\n",
    "y_pred_density_interval = az.hdi(df2[\"y_prob\"].to_numpy(), credible_interval=0.94)\n",
    "\n",
    "p_ratio = df2[\"p\"].mean()\n",
    "p_density_interval = az.hdi(df2[\"p\"].to_numpy(), credible_interval=0.94)\n",
    "\n",
    "ratio_lower_than_avg = np.sum(df2[\"y_prob\"] < 0.2) / len(df2[\"y_prob\"])\n",
    "\n",
    "print(f\"Expected ratio = {y_pred_ratio:.3f}\")\n",
    "print(\"94% density interval of the predicted ratio = \", y_pred_density_interval)\n",
    "\n",
    "print(f\"Expected value of parameter p = {p_ratio:.3f}\")\n",
    "print(\"94% density interval of the parameter p = \", p_density_interval)\n",
    "\n",
    "print(f\"Probability that ratio is lower than the average probability = {ratio_lower_than_avg:.3f}\")"
   ]
  },
  {
   "cell_type": "code",
   "execution_count": null,
   "metadata": {},
   "outputs": [],
   "source": []
  }
 ],
 "metadata": {
  "kernelspec": {
   "display_name": "Python 3",
   "language": "python",
   "name": "python3"
  },
  "language_info": {
   "codemirror_mode": {
    "name": "ipython",
    "version": 3
   },
   "file_extension": ".py",
   "mimetype": "text/x-python",
   "name": "python",
   "nbconvert_exporter": "python",
   "pygments_lexer": "ipython3",
   "version": "3.9.11"
  },
  "orig_nbformat": 4
 },
 "nbformat": 4,
 "nbformat_minor": 2
}
